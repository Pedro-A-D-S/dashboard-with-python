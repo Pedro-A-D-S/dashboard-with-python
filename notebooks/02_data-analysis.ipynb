{
 "cells": [
  {
   "attachments": {},
   "cell_type": "markdown",
   "metadata": {},
   "source": [
    "# Imports"
   ]
  },
  {
   "cell_type": "code",
   "execution_count": 1,
   "metadata": {},
   "outputs": [],
   "source": [
    "import numpy as np\n",
    "import pandas as pd\n",
    "\n",
    "import plotly.express as px\n",
    "import plotly.graph_objects as go\n",
    "\n",
    "from plotly.subplots import make_subplots\n",
    "\n",
    "import datetime\n",
    "\n",
    "import warnings\n",
    "warnings.filterwarnings('ignore')\n",
    "\n",
    "pd.set_option('display.max_rows', 500)\n",
    "pd.set_option('display.max_columns', 500)\n",
    "pd.set_option('display.width', 1000)"
   ]
  },
  {
   "attachments": {},
   "cell_type": "markdown",
   "metadata": {},
   "source": [
    "# Get Data"
   ]
  },
  {
   "cell_type": "code",
   "execution_count": null,
   "metadata": {},
   "outputs": [],
   "source": [
    "print(datetime.datetime.now())\n",
    "\n",
    "Base_Dados = pd.read_parquet('../data/base_consolidada/Base_Consolidada.parquet')\n",
    "\n",
    "print(datetime.datetime.now())"
   ]
  },
  {
   "attachments": {},
   "cell_type": "markdown",
   "metadata": {},
   "source": [
    "# EDA"
   ]
  },
  {
   "cell_type": "code",
   "execution_count": null,
   "metadata": {},
   "outputs": [],
   "source": [
    "type(Base_Dados)"
   ]
  },
  {
   "cell_type": "code",
   "execution_count": null,
   "metadata": {},
   "outputs": [],
   "source": [
    "Base_Dados.columns"
   ]
  },
  {
   "cell_type": "code",
   "execution_count": null,
   "metadata": {},
   "outputs": [],
   "source": [
    "Base_Dados.info()"
   ]
  },
  {
   "cell_type": "code",
   "execution_count": null,
   "metadata": {},
   "outputs": [],
   "source": [
    "Base_Dados.isnull().sum()"
   ]
  },
  {
   "cell_type": "code",
   "execution_count": null,
   "metadata": {},
   "outputs": [],
   "source": [
    "Base_Dados.nunique()"
   ]
  },
  {
   "cell_type": "code",
   "execution_count": null,
   "metadata": {},
   "outputs": [],
   "source": [
    "Base_Dados.head()"
   ]
  },
  {
   "cell_type": "code",
   "execution_count": null,
   "metadata": {},
   "outputs": [],
   "source": [
    "Total_multa = int(Base_Dados.shape[0])\n",
    "print(f'Total de multas nos 12 meses: {Total_multa}')"
   ]
  },
  {
   "cell_type": "code",
   "execution_count": null,
   "metadata": {},
   "outputs": [],
   "source": [
    "# Converter Data\n",
    "Base_Dados['Data da Infração (DD/MM/AAAA)'] = pd.to_datetime(Base_Dados['Data da Infração (DD/MM/AAAA)'])"
   ]
  },
  {
   "cell_type": "code",
   "execution_count": null,
   "metadata": {},
   "outputs": [],
   "source": [
    "# Multas por dia\n",
    "Multas_Dia = Base_Dados['Data da Infração (DD/MM/AAAA)'].value_counts().sort_index().reset_index()"
   ]
  },
  {
   "cell_type": "code",
   "execution_count": null,
   "metadata": {},
   "outputs": [],
   "source": [
    "\n",
    "\n",
    "# Extraíndo mês e dia das datas\n",
    "Multas_Dia['Mes'] = pd.to_datetime(Multas_Dia['Data da Infração (DD/MM/AAAA)']).dt.month\n",
    "Multas_Dia['Dia'] = pd.to_datetime(Multas_Dia['Data da Infração (DD/MM/AAAA)']).dt.month\n",
    "\n",
    "# Renomeando colunas\n",
    "Multas_Dia.columns = ['Data', 'Quantidade', 'Mes', 'Dia']"
   ]
  },
  {
   "cell_type": "code",
   "execution_count": null,
   "metadata": {},
   "outputs": [],
   "source": [
    "Multas_Dia.head()"
   ]
  },
  {
   "cell_type": "code",
   "execution_count": null,
   "metadata": {},
   "outputs": [],
   "source": [
    "Multas_Dia['Media_Movel'] = Multas_Dia['Quantidade'].rolling(7).mean()"
   ]
  },
  {
   "cell_type": "code",
   "execution_count": null,
   "metadata": {},
   "outputs": [],
   "source": [
    "Multas_Dia.info()"
   ]
  },
  {
   "attachments": {},
   "cell_type": "markdown",
   "metadata": {},
   "source": [
    "# Análise Gráfica"
   ]
  },
  {
   "cell_type": "code",
   "execution_count": null,
   "metadata": {},
   "outputs": [],
   "source": [
    "px.line(Multas_Dia, x = 'Data', y = 'Quantidade')"
   ]
  },
  {
   "cell_type": "code",
   "execution_count": null,
   "metadata": {},
   "outputs": [],
   "source": [
    "go.Figure(go.Scatter(x = Multas_Dia['Data'], y = Multas_Dia['Quantidade']))"
   ]
  },
  {
   "cell_type": "code",
   "execution_count": null,
   "metadata": {},
   "outputs": [],
   "source": [
    "# Sistema Grid\n",
    "\n",
    "Grid = make_subplots(rows = 1, cols = 2)\n",
    "\n",
    "Grid.add_trace(go.Scatter(\n",
    "    x = Multas_Dia['Data'], \n",
    "    y = Multas_Dia['Quantidade'],\n",
    "    mode = 'lines', name = 'Quantidade'), row = 1, col = 1)\n",
    "\n",
    "Grid.add_trace(go.Scatter(\n",
    "    x = Multas_Dia['Data'], \n",
    "    y = Multas_Dia['Quantidade'],\n",
    "    mode = 'lines', name = 'Média Móvel'), row = 1, col = 2)\n",
    "\n",
    "Grid.update_layout(\n",
    "    title = 'Sistema de Grid',\n",
    "    showlegend = True,\n",
    "    legend = dict(\n",
    "        orientation = 'h',\n",
    "        yanchor = 'bottom',\n",
    "        y = 1.02,\n",
    "        xanchor = 'right',\n",
    "        x = 1\n",
    "    )\n",
    ")\n",
    "\n",
    "Grid\n"
   ]
  },
  {
   "cell_type": "code",
   "execution_count": null,
   "metadata": {},
   "outputs": [],
   "source": [
    "# Sistema Grid\n",
    "\n",
    "Grid = make_subplots(rows = 1, cols = 2)\n",
    "\n",
    "Grid.add_trace(go.Scatter(\n",
    "    x = Multas_Dia['Data'], \n",
    "    y = Multas_Dia['Quantidade'],\n",
    "    mode = 'lines', name = 'Quantidade'), row = 1, col = 1)\n",
    "\n",
    "Grid.add_trace(go.Scatter(\n",
    "    x = Multas_Dia['Data'], \n",
    "    y = Multas_Dia['Media_Movel'],\n",
    "    mode = 'lines', name = 'Média Móvel'), row = 1, col = 1)\n",
    "\n",
    "Grid.update_layout(\n",
    "    title = 'Análise de multas diária',\n",
    "    showlegend = True,\n",
    "    legend = dict(\n",
    "        orientation = 'h',\n",
    "        yanchor = 'bottom',\n",
    "        y = 1.02,\n",
    "        xanchor = 'right',\n",
    "        x = 1\n",
    "    )\n",
    ")\n",
    "\n",
    "Grid\n"
   ]
  },
  {
   "cell_type": "code",
   "execution_count": null,
   "metadata": {},
   "outputs": [],
   "source": [
    "# Boxplot\n",
    "px.box(Multas_Dia,\n",
    "       x = 'Mes', \n",
    "       y = 'Quantidade',\n",
    "       color = 'Mes',\n",
    "       title = 'Distribuição de multas mês')"
   ]
  },
  {
   "attachments": {},
   "cell_type": "markdown",
   "metadata": {},
   "source": [
    "## Estados"
   ]
  },
  {
   "cell_type": "code",
   "execution_count": null,
   "metadata": {},
   "outputs": [],
   "source": [
    "Acumulado_Estados = Base_Dados['UF Infração'].value_counts()\n",
    "Acumulado_Estados_Perc = Base_Dados['UF Infração'].value_counts(normalize = True)\n",
    "Acumulado_Estados_Perc_Acum = Base_Dados['UF Infração'].value_counts(normalize = True).cumsum()\n",
    "\n",
    "# Dict\n",
    "Dicionario = {\n",
    "    'Estados': Acumulado_Estados.index,\n",
    "    'Qtd Multas': Acumulado_Estados.values,\n",
    "    'Representação': Acumulado_Estados_Perc.values,\n",
    "    'Acumulado': Acumulado_Estados_Perc_Acum.values\n",
    "}\n",
    "\n",
    "Tabela_Estados = pd.DataFrame(Dicionario)\n",
    "\n",
    "Tabela_Estados.head()"
   ]
  },
  {
   "cell_type": "code",
   "execution_count": null,
   "metadata": {},
   "outputs": [],
   "source": [
    "px.funnel(\n",
    "    Tabela_Estados[Tabela_Estados['Acumulado'] < 0.5],\n",
    "    y = 'Estados',\n",
    "    x = 'Qtd Multas',\n",
    "    title = 'Concentração dos 50%'\n",
    ")"
   ]
  },
  {
   "cell_type": "code",
   "execution_count": null,
   "metadata": {},
   "outputs": [],
   "source": [
    "px.bar(\n",
    "    Tabela_Estados,\n",
    "    x = 'Estados',\n",
    "    y = 'Acumulado',\n",
    "    title = 'Multas Acumuladas por Estado'\n",
    ")"
   ]
  },
  {
   "attachments": {},
   "cell_type": "markdown",
   "metadata": {},
   "source": [
    "## Heatmap"
   ]
  },
  {
   "cell_type": "code",
   "execution_count": null,
   "metadata": {},
   "outputs": [],
   "source": [
    "Base_Dados['Mes'] = Base_Dados['Data da Infração (DD/MM/AAAA)'].dt.month"
   ]
  },
  {
   "cell_type": "code",
   "execution_count": null,
   "metadata": {},
   "outputs": [],
   "source": [
    "Anl_Estado_Mes = Base_Dados.groupby(by = ['Mes', 'UF Infração']).agg(Quantidade = ('Município', 'count')).reset_index()"
   ]
  },
  {
   "cell_type": "code",
   "execution_count": null,
   "metadata": {},
   "outputs": [],
   "source": [
    "Anl_Estado_Mes = Anl_Estado_Mes.pivot_table(index = 'Mes', columns = 'UF Infração', values = 'Quantidade')\n",
    "Anl_Estado_Mes"
   ]
  },
  {
   "cell_type": "code",
   "execution_count": null,
   "metadata": {},
   "outputs": [],
   "source": [
    "px.imshow(Anl_Estado_Mes, title = 'Mapa de calorMapa de calor | Multas mensais por estado em 2022')"
   ]
  },
  {
   "cell_type": "code",
   "execution_count": null,
   "metadata": {},
   "outputs": [],
   "source": [
    "Base_Dados['Enquadramento da Infração'].value_counts(normalize = True).cumsum() * 100"
   ]
  },
  {
   "attachments": {},
   "cell_type": "markdown",
   "metadata": {},
   "source": [
    "Não há o valor das multas na base de dados, porém o enquadramento e no site do DETRAN, há essa informação. Vamos fazer Web Scrapping para conseguir estes dados."
   ]
  },
  {
   "attachments": {},
   "cell_type": "markdown",
   "metadata": {},
   "source": [
    "# Web Scrapping"
   ]
  },
  {
   "cell_type": "code",
   "execution_count": 7,
   "metadata": {},
   "outputs": [
    {
     "data": {
      "text/html": [
       "<div>\n",
       "<style scoped>\n",
       "    .dataframe tbody tr th:only-of-type {\n",
       "        vertical-align: middle;\n",
       "    }\n",
       "\n",
       "    .dataframe tbody tr th {\n",
       "        vertical-align: top;\n",
       "    }\n",
       "\n",
       "    .dataframe thead th {\n",
       "        text-align: right;\n",
       "    }\n",
       "</style>\n",
       "<table border=\"1\" class=\"dataframe\">\n",
       "  <thead>\n",
       "    <tr style=\"text-align: right;\">\n",
       "      <th></th>\n",
       "      <th>Código</th>\n",
       "      <th>Desd.</th>\n",
       "      <th>Infração</th>\n",
       "      <th>Artigo</th>\n",
       "      <th>Infrator</th>\n",
       "      <th>Pts</th>\n",
       "      <th>Valor</th>\n",
       "    </tr>\n",
       "  </thead>\n",
       "  <tbody>\n",
       "    <tr>\n",
       "      <th>0</th>\n",
       "      <td>5622</td>\n",
       "      <td>4</td>\n",
       "      <td>PARAR NOS CANTEIROS CENTRAIS OU DIVISORES DE P...</td>\n",
       "      <td>182 * VI</td>\n",
       "      <td>CON</td>\n",
       "      <td>3</td>\n",
       "      <td>8838</td>\n",
       "    </tr>\n",
       "    <tr>\n",
       "      <th>1</th>\n",
       "      <td>5622</td>\n",
       "      <td>5</td>\n",
       "      <td>PARAR NAS MARCAS DE CANALIZACAO</td>\n",
       "      <td>182 * VI</td>\n",
       "      <td>CON</td>\n",
       "      <td>3</td>\n",
       "      <td>8838</td>\n",
       "    </tr>\n",
       "    <tr>\n",
       "      <th>2</th>\n",
       "      <td>5630</td>\n",
       "      <td>0</td>\n",
       "      <td>PARAR NA AREA DE CRUZAMENTO DE VIAS</td>\n",
       "      <td>182 * VII</td>\n",
       "      <td>CON</td>\n",
       "      <td>4</td>\n",
       "      <td>13016</td>\n",
       "    </tr>\n",
       "    <tr>\n",
       "      <th>3</th>\n",
       "      <td>5649</td>\n",
       "      <td>1</td>\n",
       "      <td>PARAR NOS VIADUTOS</td>\n",
       "      <td>182 * VIII</td>\n",
       "      <td>CON</td>\n",
       "      <td>4</td>\n",
       "      <td>13016</td>\n",
       "    </tr>\n",
       "    <tr>\n",
       "      <th>4</th>\n",
       "      <td>5649</td>\n",
       "      <td>2</td>\n",
       "      <td>PARAR NAS PONTES</td>\n",
       "      <td>182 * VIII</td>\n",
       "      <td>CON</td>\n",
       "      <td>4</td>\n",
       "      <td>13016</td>\n",
       "    </tr>\n",
       "  </tbody>\n",
       "</table>\n",
       "</div>"
      ],
      "text/plain": [
       "   Código  Desd.                                           Infração      Artigo Infrator  Pts  Valor\n",
       "0    5622      4  PARAR NOS CANTEIROS CENTRAIS OU DIVISORES DE P...    182 * VI      CON    3   8838\n",
       "1    5622      5                    PARAR NAS MARCAS DE CANALIZACAO    182 * VI      CON    3   8838\n",
       "2    5630      0                PARAR NA AREA DE CRUZAMENTO DE VIAS   182 * VII      CON    4  13016\n",
       "3    5649      1                                 PARAR NOS VIADUTOS  182 * VIII      CON    4  13016\n",
       "4    5649      2                                   PARAR NAS PONTES  182 * VIII      CON    4  13016"
      ]
     },
     "execution_count": 7,
     "metadata": {},
     "output_type": "execute_result"
    }
   ],
   "source": [
    "Url = 'https://www.detran.mg.gov.br/infracoes/consultar-tipos-infracoes/index/index/index/index/index/index/index/index/index/index/index/index/lista-de-infracoes?artigo=&descricao='\n",
    "\n",
    "pd.read_html(Url)[0].head()"
   ]
  },
  {
   "cell_type": "code",
   "execution_count": null,
   "metadata": {},
   "outputs": [],
   "source": [
    "# Loop no site do Detran e buscar os dados\n",
    "Url = 'https://www.detran.mg.gov.br/infracoes/consultar-tipos-infracoes/index/index/index/index/index/index/index/index/index/index/index/index/index/lista-de-infracoes?artigo=&descricao=&page='\n",
    "\n",
    "# Tabela vazia\n",
    "Base_Consolidada = pd.DataFrame()\n",
    "\n",
    "for Loop in range(1, 24):\n",
    "    \n",
    "    # Construindo a URL\n",
    "    Link = f'{Url}{Loop}'\n",
    "    \n",
    "    # Lendo os dados da Web\n",
    "    Dados_web = pd.read_html(Link)[0]\n",
    "    \n",
    "    # Consolidar\n",
    "    Base_Consolidada = pd.concat([Base_Consolidada, Dados_web])\n"
   ]
  },
  {
   "cell_type": "code",
   "execution_count": null,
   "metadata": {},
   "outputs": [],
   "source": [
    "Base_Consolidada.shape"
   ]
  },
  {
   "cell_type": "code",
   "execution_count": null,
   "metadata": {},
   "outputs": [],
   "source": [
    "Base_Consolidada.head()"
   ]
  },
  {
   "cell_type": "code",
   "execution_count": null,
   "metadata": {},
   "outputs": [],
   "source": [
    "Base_Consolidada['Valor'] = pd.to_numeric(Base_Consolidada['Valor'], errors='coerce')\n",
    "Base_Consolidada = Base_Consolidada.dropna(subset=['Valor'])\n"
   ]
  },
  {
   "cell_type": "code",
   "execution_count": null,
   "metadata": {},
   "outputs": [],
   "source": [
    "Base_Consolidada['Valor'] = Base_Consolidada['Valor'] / 100"
   ]
  },
  {
   "cell_type": "code",
   "execution_count": null,
   "metadata": {},
   "outputs": [],
   "source": [
    "Base_Consolidada.rename(columns = {'Código': 'Código da Infração'}, inplace = True)"
   ]
  },
  {
   "cell_type": "code",
   "execution_count": null,
   "metadata": {},
   "outputs": [],
   "source": [
    "Base_Consolidada['Código da Infração'] = Base_Consolidada['Código da Infração'].astype('int64')"
   ]
  },
  {
   "cell_type": "code",
   "execution_count": null,
   "metadata": {},
   "outputs": [],
   "source": [
    "Tab_Preco = Base_Consolidada.groupby(by=['Código da Infração'])['Valor'].apply(lambda x: np.mean(x.astype(float))).reset_index()"
   ]
  },
  {
   "cell_type": "code",
   "execution_count": null,
   "metadata": {},
   "outputs": [],
   "source": [
    "# Reencresver a coluna de Infração\n",
    "Base_Dados['Código da Infração'] = Base_Dados['Código da Infração'].apply( lambda Loop : Loop[0:4] )"
   ]
  },
  {
   "cell_type": "code",
   "execution_count": null,
   "metadata": {},
   "outputs": [],
   "source": [
    "# Converto para numero o codigo\n",
    "Base_Dados['Código da Infração'] = pd.to_numeric( Base_Dados['Código da Infração'], errors = 'coerce')"
   ]
  },
  {
   "cell_type": "code",
   "execution_count": null,
   "metadata": {},
   "outputs": [],
   "source": [
    "Base_Dados['Código da Infração'].dtypes"
   ]
  },
  {
   "cell_type": "code",
   "execution_count": null,
   "metadata": {},
   "outputs": [],
   "source": [
    "Tab_Preco['Código da Infração'].dtypes"
   ]
  },
  {
   "cell_type": "code",
   "execution_count": null,
   "metadata": {},
   "outputs": [],
   "source": [
    "# Cruzando os dados\n",
    "Cruzamento = pd.merge( Base_Dados, Tab_Preco, on='Código da Infração', how='left' )\n",
    "Cruzamento.head()"
   ]
  },
  {
   "cell_type": "code",
   "execution_count": null,
   "metadata": {},
   "outputs": [],
   "source": [
    "# Analise por UF e Preço\n",
    "Tab_Soma = Cruzamento.groupby(by='UF Infração').agg(\n",
    "    {'Valor':['count', 'sum']},\n",
    ")\n",
    "\n",
    "Tab_Soma.columns = Tab_Soma.columns.droplevel()\n",
    "\n",
    "Tab_Soma = Tab_Soma.reset_index()\n",
    "\n",
    "Tab_Soma.head()"
   ]
  },
  {
   "cell_type": "code",
   "execution_count": null,
   "metadata": {},
   "outputs": [],
   "source": [
    "px.scatter( \n",
    "    Tab_Soma, \n",
    "    x='count', \n",
    "    y='sum', \n",
    "    color='UF Infração', \n",
    "    size='count', \n",
    "    log_x=True, \n",
    "    size_max=60, \n",
    "    title='Bubble PLOT' )"
   ]
  },
  {
   "cell_type": "code",
   "execution_count": null,
   "metadata": {},
   "outputs": [],
   "source": [
    "fig = px.scatter( Tab_Soma, x='count', y='sum', color='UF Infração', title='Scatter PLOT')\n",
    "fig.update_traces(marker=dict(size=12) )"
   ]
  },
  {
   "cell_type": "code",
   "execution_count": null,
   "metadata": {},
   "outputs": [],
   "source": [
    "Analise_Valor_Mes = Cruzamento.groupby( by=['Mes'] )['Valor'].sum().reset_index()\n",
    "Analise_Valor_Mes"
   ]
  },
  {
   "cell_type": "code",
   "execution_count": null,
   "metadata": {},
   "outputs": [],
   "source": []
  },
  {
   "cell_type": "code",
   "execution_count": null,
   "metadata": {},
   "outputs": [],
   "source": []
  }
 ],
 "metadata": {
  "kernelspec": {
   "display_name": ".venv",
   "language": "python",
   "name": "python3"
  },
  "language_info": {
   "codemirror_mode": {
    "name": "ipython",
    "version": 3
   },
   "file_extension": ".py",
   "mimetype": "text/x-python",
   "name": "python",
   "nbconvert_exporter": "python",
   "pygments_lexer": "ipython3",
   "version": "3.10.11"
  },
  "orig_nbformat": 4
 },
 "nbformat": 4,
 "nbformat_minor": 2
}
