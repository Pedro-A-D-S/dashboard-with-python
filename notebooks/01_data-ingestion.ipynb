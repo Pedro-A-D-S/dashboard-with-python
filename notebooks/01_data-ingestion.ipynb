{
 "cells": [
  {
   "attachments": {},
   "cell_type": "markdown",
   "metadata": {},
   "source": [
    "# Imports"
   ]
  },
  {
   "cell_type": "code",
   "execution_count": 1,
   "metadata": {},
   "outputs": [],
   "source": [
    "import pandas as pd\n",
    "import numpy as np\n",
    "import sqlite3\n",
    "\n",
    "import warnings\n",
    "warnings.filterwarnings('ignore')\n",
    "import os\n",
    "\n",
    "from pathlib import Path"
   ]
  },
  {
   "cell_type": "code",
   "execution_count": 2,
   "metadata": {},
   "outputs": [],
   "source": [
    "# Local do diretorio\n",
    "Local_Diretorio = 'C:/Users/pedro/OneDrive/Documentos/Dash/data/ajustados_2022'\n",
    "Diretorio_Path = Path(Local_Diretorio)"
   ]
  },
  {
   "cell_type": "code",
   "execution_count": 4,
   "metadata": {},
   "outputs": [
    {
     "name": "stdout",
     "output_type": "stream",
     "text": [
      "infraçoes2022_01.csv : 83.06 MB\n",
      "-----------------------------------\n",
      "infraçoes2022_02.csv : 92.40 MB\n",
      "-----------------------------------\n",
      "infraçoes2022_03.csv : 96.70 MB\n",
      "-----------------------------------\n",
      "infraçoes2022_04.csv : 100.81 MB\n",
      "-----------------------------------\n",
      "infraçoes2022_05.csv : 87.02 MB\n",
      "-----------------------------------\n",
      "infraçoes2022_06.csv : 80.33 MB\n",
      "-----------------------------------\n",
      "infraçoes2022_07.csv : 76.21 MB\n",
      "-----------------------------------\n",
      "infraçoes2022_08.csv : 78.61 MB\n",
      "-----------------------------------\n",
      "infraçoes2022_09.csv : 81.08 MB\n",
      "-----------------------------------\n",
      "infraçoes2022_10.csv : 87.07 MB\n",
      "-----------------------------------\n",
      "infraçoes2022_11.csv : 68.00 MB\n",
      "-----------------------------------\n",
      "infraçoes2022_12.csv : 89.16 MB\n",
      "-----------------------------------\n",
      "Temos ao todo 1020.46 MBs de dados\n"
     ]
    }
   ],
   "source": [
    "# Lista os arquivos\n",
    "Arquivos = Diretorio_Path.iterdir()\n",
    "\n",
    "# Função para calcular tamanho do arquivo\n",
    "def Bytes_Mega(bytes):\n",
    "    Megabytes = bytes / (1024 * 1024)\n",
    "    return Megabytes\n",
    "\n",
    "# Total MBs\n",
    "Total_MB = 0\n",
    "\n",
    "# loop\n",
    "for Loop in Arquivos:\n",
    "    #print(Loop)\n",
    "    \n",
    "    # Buscando tamanho do arquivo\n",
    "    Tamanho = os.path.getsize(Loop)\n",
    "    \n",
    "    # Convertendo em megas\n",
    "    Conversao = Bytes_Mega(Tamanho)\n",
    "    \n",
    "    # Extraindo o nome do arquivo\n",
    "    Nome_Arquivo = str(Loop).split('\\\\')[-1]\n",
    "    print(f'{Nome_Arquivo} : {Conversao:.2f} MB')\n",
    "    print('-' * 35)\n",
    "    \n",
    "    Total_MB = Total_MB + Tamanho\n",
    "    \n",
    "print(f'Temos ao todo {round(Bytes_Mega(Total_MB), 2)} MBs de dados')"
   ]
  },
  {
   "cell_type": "code",
   "execution_count": 57,
   "metadata": {},
   "outputs": [
    {
     "name": "stdout",
     "output_type": "stream",
     "text": [
      "0 C:\\Users\\pedro\\OneDrive\\Documentos\\Dash\\data\\ajustados_2022\\infraçoes2022_01.csv\n",
      "1 C:\\Users\\pedro\\OneDrive\\Documentos\\Dash\\data\\ajustados_2022\\infraçoes2022_02.csv\n",
      "2 C:\\Users\\pedro\\OneDrive\\Documentos\\Dash\\data\\ajustados_2022\\infraçoes2022_03.csv\n",
      "3 C:\\Users\\pedro\\OneDrive\\Documentos\\Dash\\data\\ajustados_2022\\infraçoes2022_04.csv\n",
      "4 C:\\Users\\pedro\\OneDrive\\Documentos\\Dash\\data\\ajustados_2022\\infraçoes2022_05.csv\n",
      "5 C:\\Users\\pedro\\OneDrive\\Documentos\\Dash\\data\\ajustados_2022\\infraçoes2022_06.csv\n",
      "6 C:\\Users\\pedro\\OneDrive\\Documentos\\Dash\\data\\ajustados_2022\\infraçoes2022_07.csv\n",
      "7 C:\\Users\\pedro\\OneDrive\\Documentos\\Dash\\data\\ajustados_2022\\infraçoes2022_08.csv\n",
      "8 C:\\Users\\pedro\\OneDrive\\Documentos\\Dash\\data\\ajustados_2022\\infraçoes2022_09.csv\n",
      "9 C:\\Users\\pedro\\OneDrive\\Documentos\\Dash\\data\\ajustados_2022\\infraçoes2022_10.csv\n",
      "10 C:\\Users\\pedro\\OneDrive\\Documentos\\Dash\\data\\ajustados_2022\\infraçoes2022_11.csv\n",
      "11 C:\\Users\\pedro\\OneDrive\\Documentos\\Dash\\data\\ajustados_2022\\infraçoes2022_12.csv\n"
     ]
    },
    {
     "data": {
      "text/plain": [
       "(4135523, 25)"
      ]
     },
     "execution_count": 57,
     "metadata": {},
     "output_type": "execute_result"
    }
   ],
   "source": [
    "# loop para consolidar os arquivos\n",
    "\n",
    "Arquivos = Diretorio_Path.iterdir()\n",
    "\n",
    "for Contador, Arq in enumerate(Arquivos):\n",
    "    print(Contador, Arq)\n",
    "    \n",
    "    if Contador == 0:\n",
    "        Base_Dados = pd.read_csv(Arq, error_bad_lines = False,\n",
    "                                 sep = ';', encoding = 'latin-1')\n",
    "        Base_Consolidada = Base_Dados\n",
    "    \n",
    "    else:\n",
    "        Base_Dados = pd.read_csv(Arq, error_bad_lines = False,\n",
    "                                 sep = ';', encoding = 'latin-1')\n",
    "        \n",
    "        Base_Consolidada = pd.concat([Base_Consolidada, Base_Dados])\n",
    "\n",
    "Base_Consolidada.shape"
   ]
  },
  {
   "attachments": {},
   "cell_type": "markdown",
   "metadata": {},
   "source": [
    "# Save Data"
   ]
  },
  {
   "cell_type": "code",
   "execution_count": 60,
   "metadata": {},
   "outputs": [],
   "source": [
    "for col in Base_Consolidada.columns:\n",
    "    Base_Consolidada[col] = Base_Consolidada[col].astype(str)"
   ]
  },
  {
   "cell_type": "code",
   "execution_count": 61,
   "metadata": {},
   "outputs": [],
   "source": [
    "Base_Consolidada.to_parquet('../data/base_consolidada/Base_Consolidada.parquet',\n",
    "                        index = False, compression = 'gzip')"
   ]
  },
  {
   "cell_type": "code",
   "execution_count": 49,
   "metadata": {},
   "outputs": [
    {
     "data": {
      "text/plain": [
       "4135523"
      ]
     },
     "execution_count": 49,
     "metadata": {},
     "output_type": "execute_result"
    }
   ],
   "source": [
    "# Criar banco de dados\n",
    "Conexao = sqlite3.connect('../data/base_consolidada/Banco_Dados.db')\n",
    "\n",
    "# Nome_Tabela\n",
    "Nome_Tabela = 'Base_Consolidada'\n",
    "\n",
    "Base_Consolidada.to_sql(Nome_Tabela, Conexao, if_exists = 'append', index = False)\n"
   ]
  },
  {
   "cell_type": "code",
   "execution_count": null,
   "metadata": {},
   "outputs": [],
   "source": []
  }
 ],
 "metadata": {
  "kernelspec": {
   "display_name": ".venv",
   "language": "python",
   "name": "python3"
  },
  "language_info": {
   "codemirror_mode": {
    "name": "ipython",
    "version": 3
   },
   "file_extension": ".py",
   "mimetype": "text/x-python",
   "name": "python",
   "nbconvert_exporter": "python",
   "pygments_lexer": "ipython3",
   "version": "3.10.12"
  },
  "orig_nbformat": 4
 },
 "nbformat": 4,
 "nbformat_minor": 2
}
